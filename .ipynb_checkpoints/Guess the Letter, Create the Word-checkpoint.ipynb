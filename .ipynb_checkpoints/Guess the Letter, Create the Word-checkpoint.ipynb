{
 "cells": [
  {
   "cell_type": "markdown",
   "metadata": {},
   "source": [
    "**Create a Letter Guessing Game**\n",
    "\n",
    "Create a program that allows a user 7 chances to guess the correct word. If they do not guess the word after 7 tries, the player loses and the program will print the correct word. Otherwise, the play wins and the game.\n",
    "\n",
    "**How to build the program**\n",
    "* When you start the game, you will need to select a random word from a list of at least 10 words (You have full control over which words you want to use for you program). This will be your secret word. Your secret word will be represented in the program as a group of underscores. For as long as the word is, you should also have that many underscores. \n",
    "\n",
    "* Once the word is selected, your game will commence. Perform a Google search to figure out how to select a random word from a list using Python.<br>\n",
    "**Hint** There's package you can import into your application that does this for you.\n",
    "\n",
    "* The end user will have a total of 7 chances to guess the correct letter from the secret word. If the end user makes 7 incorrect guesses, the game will end.\n",
    "\n",
    "* As you guess the correct letters, the letters you have guess will then take place of the underscores that letter represents. <br>\n",
    "**For Example**: If your secret word is 'watermelon' and  so far you have guessed the letters 'a' and 'e', the word you're trying to guess will appear as follows: _ a _ e _ _ e _ _ _.<br>\n",
    "**Keep in mind** that if you guess a letter that appears more than once in your secret word, make sure that the letter is populated anywhere that letter would be."
   ]
  },
  {
   "cell_type": "code",
   "execution_count": null,
   "metadata": {
    "scrolled": true
   },
   "outputs": [
    {
     "name": "stdout",
     "output_type": "stream",
     "text": [
      "_ _ _ _ _ _ _ _\n"
     ]
    }
   ],
   "source": [
    "import random\n",
    "from IPython.display import clear_output\n",
    "\n",
    "secret_words = [\"computer\", \"python\", \"html\", \"desk\", \"terminal\", \"lion\", \"tiger\", \"mountain\", \"yosemite\", \"texas\"]\n",
    "chosen_word = list((random.choice(secret_words)))\n",
    "blanks = list((\"_\" * len(chosen_word)))\n",
    "print(f\"{' '.join(blanks)}\")\n",
    "guesses = []\n",
    "turns = 7\n",
    "\n",
    "while turns > 0:\n",
    "    failed = 0\n",
    "    ask = input(\"Guess a letter: (To quit, type: quit) \")\n",
    "    guesses += ask.lower()\n",
    "    \n",
    "    for i, l in enumerate(chosen_word):\n",
    "        if l == ask.lower():\n",
    "            blanks[i] = ask.lower()\n",
    "        else:\n",
    "            failed += 1\n",
    "    print(\" \".join(blanks))\n",
    "    \n",
    "    if blanks == chosen_word:\n",
    "        print(\"You won!\")\n",
    "        break\n",
    "        \n",
    "    if ask.lower() == \"quit\":\n",
    "        break\n",
    "    \n",
    "    if ask.lower() not in chosen_word:\n",
    "        turns -= 1\n",
    "        print(\"Wrong\")\n",
    "        print(\"You have\", + turns, 'more guesses')\n",
    "        \n",
    "        if turns == 0:\n",
    "            print(\"You Lose\")"
   ]
  },
  {
   "cell_type": "code",
   "execution_count": null,
   "metadata": {},
   "outputs": [],
   "source": []
  },
  {
   "cell_type": "code",
   "execution_count": null,
   "metadata": {},
   "outputs": [],
   "source": []
  },
  {
   "cell_type": "code",
   "execution_count": null,
   "metadata": {},
   "outputs": [],
   "source": []
  }
 ],
 "metadata": {
  "kernelspec": {
   "display_name": "Python 3",
   "language": "python",
   "name": "python3"
  }
 },
 "nbformat": 4,
 "nbformat_minor": 2
}
